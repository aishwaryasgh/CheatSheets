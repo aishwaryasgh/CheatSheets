{
 "cells": [
  {
   "cell_type": "markdown",
   "id": "7f96b226",
   "metadata": {},
   "source": [
    "# 🧪 Exploratory Data Analysis (EDA) with Pandas - Cheat Sheet\n",
    "\n",
    "*By: [Waleed Mousa](https://www.linkedin.com/in/waleed-mousa-1843b5a9/)*"
   ]
  },
  {
   "cell_type": "markdown",
   "id": "95585765",
   "metadata": {},
   "source": [
    "## 1. Data Loading\n",
    "\n",
    "- Read CSV File: df = pd.read_csv('filename.csv')\n",
    "- Read Excel File: df = pd.read_excel('filename.xlsx')\n",
    "- Read from SQL Database: df = pd.read_sql(query, connection)"
   ]
  },
  {
   "cell_type": "markdown",
   "id": "bbf97f03",
   "metadata": {},
   "source": [
    "## 2. Basic Data Inspection\n",
    "\n",
    "- Display Top Rows: df.head()\n",
    "- Display Bottom Rows: df.tail()\n",
    "- Display Data Types: df.dtypes\n",
    "- Summary Statistics: df.describe()\n",
    "- Display Index, Columns, and Data: df.info()"
   ]
  },
  {
   "cell_type": "markdown",
   "id": "87843afa",
   "metadata": {},
   "source": [
    "## 3. Data Cleaning\n",
    "\n",
    "- Check for Missing Values: df.isnull().sum()\n",
    "- Fill Missing Values: df.fillna(value)\n",
    "- Drop Missing Values: df.dropna()\n",
    "- Rename Columns: df.rename(columns={'old_name': 'new_name'})\n",
    "- Drop Columns: df.drop(columns=['column_name'])"
   ]
  },
  {
   "cell_type": "markdown",
   "id": "3f2fef13",
   "metadata": {},
   "source": [
    "## 4. Data Transformation\n",
    "\n",
    "- Apply Function: df['column'].apply(lambda x: function(x))\n",
    "- Group By and Aggregate: df.groupby('column').agg({'column': 'sum'})\n",
    "- Pivot Tables: df.pivot_table(index='column1', values='column2', aggfunc='mean')\n",
    "- Merge DataFrames: pd.merge(df1, df2, on='column')\n",
    "- Concatenate DataFrames: pd.concat([df1, df2])"
   ]
  },
  {
   "cell_type": "markdown",
   "id": "509500d7",
   "metadata": {},
   "source": [
    "## 5. Data Visualization Integration\n",
    "\n",
    "- Histogram: df['column'].hist()\n",
    "- Boxplot: df.boxplot(column=['column1', 'column2'])\n",
    "- Scatter Plot: df.plot.scatter(x='col1', y='col2')\n",
    "- Line Plot: df.plot.line()\n",
    "- Bar Chart: df['column'].value_counts().plot.bar()"
   ]
  },
  {
   "cell_type": "markdown",
   "id": "be4cd429",
   "metadata": {},
   "source": [
    "## 6. Statistical Analysis\n",
    "\n",
    "- Correlation Matrix: df.corr()\n",
    "- Covariance Matrix: df.cov()\n",
    "- Value Counts: df['column'].value_counts()\n",
    "- Unique Values in Column: df['column'].unique()\n",
    "- Number of Unique Values: df['column'].nunique()"
   ]
  },
  {
   "cell_type": "markdown",
   "id": "72782b99",
   "metadata": {},
   "source": [
    "## 7. Indexing and Selection\n",
    "\n",
    "- Select Column: df['column']\n",
    "- Select Multiple Columns: df[['col1', 'col2']]\n",
    "- Select Rows by Position: df.iloc[0:5]\n",
    "- Select Rows by Label: df.loc[0:5]\n",
    "- Conditional Selection: df[df['column'] > value]"
   ]
  },
  {
   "cell_type": "markdown",
   "id": "2e37df1b",
   "metadata": {},
   "source": [
    "## 8. Data Formatting and Conversion\n",
    "\n",
    "- Convert Data Types: df['column'].astype('type')\n",
    "- String Operations: df['column'].str.lower()\n",
    "- Datetime Conversion: pd.to_datetime(df['column'])\n",
    "- Setting Index: df.set_index('column')"
   ]
  },
  {
   "cell_type": "markdown",
   "id": "95188184",
   "metadata": {},
   "source": [
    "## 9. Advanced Data Transformation\n",
    "\n",
    "- Lambda Functions: df.apply(lambda x: x + 1)\n",
    "- Pivot Longer/Wider Format: df.melt(id_vars=['col1'])\n",
    "- Stack/Unstack: df.stack(), df.unstack()\n",
    "- Cross Tabulations: pd.crosstab(df['col1'], df['col2'])"
   ]
  },
  {
   "cell_type": "markdown",
   "id": "096b459f",
   "metadata": {},
   "source": [
    "## 10. Handling Time Series Data\n",
    "\n",
    "- Set Datetime Index: df.set_index(pd.to_datetime(df['date']))\n",
    "- Resampling Data: df.resample('M').mean()\n",
    "- Rolling Window Operations: df.rolling(window=5).mean()"
   ]
  },
  {
   "cell_type": "markdown",
   "id": "1623e659",
   "metadata": {},
   "source": [
    "## 11. File Export\n",
    "\n",
    "- Write to CSV: df.to_csv('filename.csv')\n",
    "- Write to Excel: df.to_excel('filename.xlsx')\n",
    "- Write to SQL Database: df.to_sql('table_name', connection)"
   ]
  },
  {
   "cell_type": "markdown",
   "id": "36ace957",
   "metadata": {},
   "source": [
    "## 12. Data Exploration Techniques\n",
    "\n",
    "- Profile Report (with pandas-profiling): from pandas_profiling import ProfileReport; ProfileReport(df)\n",
    "- Pairplot (with seaborn): import seaborn as sns; sns.pairplot(df)\n",
    "- Heatmap for Correlation (with seaborn): sns.heatmap(df.corr(), annot=True)"
   ]
  },
  {
   "cell_type": "markdown",
   "id": "d2c6760d",
   "metadata": {},
   "source": [
    "## 13. Advanced Data Queries\n",
    "\n",
    "- Query Function: df.query('column > value')\n",
    "- Filtering with isin: df[df['column'].isin([value1, value2])]"
   ]
  },
  {
   "cell_type": "markdown",
   "id": "204ad3ff",
   "metadata": {},
   "source": [
    "## 14. Memory Optimization\n",
    "\n",
    "- Reducing Memory Usage: df.memory_usage(deep=True)\n",
    "- Change Data Types to Save Memory: df['column'].astype('category')"
   ]
  },
  {
   "cell_type": "markdown",
   "id": "26e1e934",
   "metadata": {},
   "source": [
    "## 15. Multi-Index Operations\n",
    "\n",
    "- Creating MultiIndex: df.set_index(['col1', 'col2'])\n",
    "- Slicing on MultiIndex: df.loc[(slice('index1_start', 'index1_end'), slice('index2_start', 'index2_end'))]"
   ]
  },
  {
   "cell_type": "markdown",
   "id": "5d10bb98",
   "metadata": {},
   "source": [
    "## 16. Data Merging Techniques\n",
    "\n",
    "- Outer Join: pd.merge(df1, df2, on='column', how='outer')\n",
    "- Inner Join: pd.merge(df1, df2, on='column', how='inner')\n",
    "- Left Join: pd.merge(df1, df2, on='column', how='left')\n",
    "- Right Join: pd.merge(df1, df2, on='column', how='right')"
   ]
  },
  {
   "cell_type": "markdown",
   "id": "df213368",
   "metadata": {},
   "source": [
    "## 17. Dealing with Duplicates\n",
    "\n",
    "- Finding Duplicates: df.duplicated()\n",
    "- Removing Duplicates: df.drop_duplicates()"
   ]
  },
  {
   "cell_type": "markdown",
   "id": "478e2534",
   "metadata": {},
   "source": [
    "## 18. Custom Operations with Apply\n",
    "\n",
    "- Custom Apply Functions: df.apply(lambda row: custom_func(row['col1'], row['col2']), axis=1)"
   ]
  },
  {
   "cell_type": "markdown",
   "id": "8ae72b06",
   "metadata": {},
   "source": [
    "## 19. Handling Large Datasets\n",
    "\n",
    "- Chunking Large Files: pd.read_csv('large_file.csv', chunksize=1000)\n",
    "- Iterating Through Data Chunks: for chunk in pd.read_csv('file.csv', chunksize=500): process(chunk)"
   ]
  },
  {
   "cell_type": "markdown",
   "id": "c17966f4",
   "metadata": {},
   "source": [
    "## 20. Integration with Matplotlib for Custom Plots\n",
    "\n",
    "- Custom Plotting: import matplotlib.pyplot as plt; df.plot(); plt.show()"
   ]
  },
  {
   "cell_type": "markdown",
   "id": "456e1d9d",
   "metadata": {},
   "source": [
    "## 21. Specialized Data Types Handling\n",
    "\n",
    "- Working with Categorical Data: df['column'].astype('category')\n",
    "- Dealing with Sparse Data: pd.arrays.SparseArray(df['column'])"
   ]
  },
  {
   "cell_type": "markdown",
   "id": "f4cfb4c3",
   "metadata": {},
   "source": [
    "## 22. Performance Tuning\n",
    "\n",
    "- Using Swifter for Faster Apply: import swifter; df['column'].swifter.apply(lambda x: func(x))\n",
    "- Parallel Processing with Dask: import dask.dataframe as dd; ddf = dd.from_pandas(df, npartitions=10)"
   ]
  },
  {
   "cell_type": "markdown",
   "id": "c9757f1a",
   "metadata": {},
   "source": [
    "## 23. Visualization Enhancement\n",
    "\n",
    "- Customize Plot Style: plt.style.use('ggplot')\n",
    "- Histogram with Bins Specification: df['column'].hist(bins=20)\n",
    "- Boxplot Grouped by Category: df.boxplot(column='num_column', by='cat_column')"
   ]
  },
  {
   "cell_type": "markdown",
   "id": "17a48034",
   "metadata": {},
   "source": [
    "## 24. Advanced Grouping and Aggregation\n",
    "\n",
    "- Group by Multiple Columns: df.groupby(['col1', 'col2']).mean()\n",
    "- Aggregate with Multiple Functions: df.groupby('col').agg(['mean', 'sum'])\n",
    "- Transform Function: df.groupby('col').transform(lambda x: x - x.mean())"
   ]
  },
  {
   "cell_type": "markdown",
   "id": "6c15a512",
   "metadata": {},
   "source": [
    "## 25. Time Series Specific Operations\n",
    "\n",
    "- Time-Based Grouping: df.groupby(pd.Grouper(key='date_col', freq='M')).sum()\n",
    "- Shifting Series for Lag Analysis: df['column'].shift(1)\n",
    "- Resample Time Series Data: df.resample('M', on='date_col').mean()"
   ]
  },
  {
   "cell_type": "markdown",
   "id": "b42375a2",
   "metadata": {},
   "source": [
    "## 26. Text Data Specific Operations\n",
    "\n",
    "- String Contains: df[df['column'].str.contains('substring')]\n",
    "- String Split: df['column'].str.split(' ', expand=True)\n",
    "- Regular Expression Extraction: df['column'].str.extract(r'(regex)')"
   ]
  },
  {
   "cell_type": "markdown",
   "id": "16960d0c",
   "metadata": {},
   "source": [
    "## 27. Data Normalization and Standardization\n",
    "\n",
    "- Min-Max Normalization: (df['column'] - df['column'].min()) / (df['column'].max() - df['column'].min())\n",
    "- Z-Score Standardization: (df['column'] - df['column'].mean()) / df['column'].std()"
   ]
  },
  {
   "cell_type": "markdown",
   "id": "eaa8e4c8",
   "metadata": {},
   "source": [
    "## 28. Working with JSON and XML\n",
    "\n",
    "- Reading JSON: df = pd.read_json('filename.json')\n",
    "- Reading XML: df = pd.read_xml('filename.xml')"
   ]
  },
  {
   "cell_type": "markdown",
   "id": "cc88876d",
   "metadata": {},
   "source": [
    "## 29. Advanced File Handling\n",
    "\n",
    "- Read CSV with Specific Delimiter: df = pd.read_csv('filename.csv', delimiter=';')\n",
    "- Writing to JSON: df.to_json('filename.json')"
   ]
  },
  {
   "cell_type": "markdown",
   "id": "0c671305",
   "metadata": {},
   "source": [
    "## 30. Dealing with Missing Data\n",
    "\n",
    "- Interpolate Missing Values: df['column'].interpolate()\n",
    "- Forward Fill Missing Values: df['column'].ffill()\n",
    "- Backward Fill Missing Values: df['column'].bfill()"
   ]
  },
  {
   "cell_type": "markdown",
   "id": "2a827f21",
   "metadata": {},
   "source": [
    "## 31. Data Reshaping\n",
    "\n",
    "- Wide to Long Format: pd.wide_to_long(df, ['col'], i='id_col', j='year')\n",
    "- Long to Wide Format: df.pivot(index='id_col', columns='year', values='col')"
   ]
  },
  {
   "cell_type": "markdown",
   "id": "4d3e7f7b",
   "metadata": {},
   "source": [
    "## 32. Categorical Data Operations\n",
    "\n",
    "- Convert Column to Categorical: df['column'] = df['column'].astype('category')\n",
    "- Order Categories: df['column'].cat.set_categories(['cat1', 'cat2'], ordered=True)"
   ]
  },
  {
   "cell_type": "markdown",
   "id": "1ad11728",
   "metadata": {},
   "source": [
    "## 33. Advanced Indexing\n",
    "\n",
    "- Reset Index: df.reset_index(drop=True)\n",
    "- Set Multiple Indexes: df.set_index(['col1', 'col2'])\n",
    "- MultiIndex Slicing: df.xs(key='value', level='level_name')"
   ]
  },
  {
   "cell_type": "markdown",
   "id": "6e0c0b4f",
   "metadata": {},
   "source": [
    "## 34. Efficient Computations\n",
    "\n",
    "- Use of eval() for Efficient Operations: df.eval('col1 + col2')\n",
    "- Query Method for Filtering: df.query('col1 < col2')"
   ]
  },
  {
   "cell_type": "markdown",
   "id": "0a7add91",
   "metadata": {},
   "source": [
    "## 35. Integration with SciPy and StatsModels\n",
    "\n",
    "- Linear Regression (with statsmodels): import statsmodels.api as sm; sm.OLS(y, X).fit()\n",
    "- Kurtosis and Skewness (with SciPy): from scipy.stats import kurtosis, skew; kurtosis(df['column']), skew(df['column'])"
   ]
  },
  {
   "cell_type": "markdown",
   "id": "7d669484",
   "metadata": {},
   "source": [
    "## 36. Handling Large Data Efficiently\n",
    "\n",
    "- Dask Integration for Large Data: import dask.dataframe as dd; ddf = dd.from_pandas(df, npartitions=10)\n",
    "- Sampling Data for Quick Insights: df.sample(n=1000)"
   ]
  },
  {
   "cell_type": "markdown",
   "id": "85a6293f",
   "metadata": {},
   "source": [
    "## 37. Advanced Data Merging\n",
    "\n",
    "- SQL-like Joins: pd.merge(df1, df2, how='left', on='col')\n",
    "- Concatenating Along a Different Axis: pd.concat([df1, df2], axis=1)"
   ]
  },
  {
   "cell_type": "markdown",
   "id": "f4f78165",
   "metadata": {},
   "source": [
    "## 38. Profiling Data for Quick Insights\n",
    "\n",
    "- Using Pandas Profiling for Quick Analysis: from pandas_profiling import ProfileReport; report = ProfileReport(df)"
   ]
  },
  {
   "cell_type": "markdown",
   "id": "042ac10c",
   "metadata": {},
   "source": [
    "## 39. Working with External Data Sources\n",
    "\n",
    "- Reading Data from HTML: dfs = pd.read_html('http://example.com')\n",
    "- Connecting to a SQL Database: from sqlalchemy import create_engine; engine = create_engine('sqlite:///db.sqlite'); df = pd.read_sql('SELECT * FROM table_name', engine)"
   ]
  },
  {
   "cell_type": "markdown",
   "id": "69d05b5b",
   "metadata": {},
   "source": [
    "## 40. Data Quality Checks\n",
    "\n",
    "- Assert Statement for Data Validation: assert df.notnull().all().all(), \"There are missing values in the dataframe\""
   ]
  }
 ],
 "metadata": {},
 "nbformat": 4,
 "nbformat_minor": 5
}
